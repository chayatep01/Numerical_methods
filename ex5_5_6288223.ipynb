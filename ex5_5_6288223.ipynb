{
  "nbformat": 4,
  "nbformat_minor": 0,
  "metadata": {
    "colab": {
      "name": "ex5-5_6288223.ipynb",
      "provenance": [],
      "authorship_tag": "ABX9TyNjp9e6qM1XCQa+rGfdfXJy",
      "include_colab_link": true
    },
    "kernelspec": {
      "name": "python3",
      "display_name": "Python 3"
    }
  },
  "cells": [
    {
      "cell_type": "markdown",
      "metadata": {
        "id": "view-in-github",
        "colab_type": "text"
      },
      "source": [
        "<a href=\"https://colab.research.google.com/github/chayatep01/Numerical_methods/blob/master/ex5_5_6288223.ipynb\" target=\"_parent\"><img src=\"https://colab.research.google.com/assets/colab-badge.svg\" alt=\"Open In Colab\"/></a>"
      ]
    },
    {
      "cell_type": "code",
      "metadata": {
        "id": "dWzRllyRuFr8",
        "colab_type": "code",
        "colab": {}
      },
      "source": [
        "import numpy as np\n"
      ],
      "execution_count": 1,
      "outputs": []
    },
    {
      "cell_type": "code",
      "metadata": {
        "id": "ShIgw4b8uPBF",
        "colab_type": "code",
        "colab": {}
      },
      "source": [
        "def function(x):\n",
        "    temp = 0.2 + 25*x - 200*x*x+675*x*x*x - 900*x*x*x*x+400*x*x*x\n",
        "    return(temp)"
      ],
      "execution_count": 2,
      "outputs": []
    },
    {
      "cell_type": "code",
      "metadata": {
        "id": "bevSJ0KquPFR",
        "colab_type": "code",
        "colab": {
          "base_uri": "https://localhost:8080/",
          "height": 85
        },
        "outputId": "bb8f5fb9-e02a-4160-be09-ad7f846eb6fb"
      },
      "source": [
        "n = 4\n",
        "a = 0\n",
        "b = 0.8\n",
        "step = (b-a)/n\n",
        "mid = 0\n",
        "\n",
        "r = range(1,n)\n",
        "for x in r :\n",
        "  i = x*step\n",
        "  print(i)\n",
        "  mid = mid + function(i)\n",
        "\n",
        "a = 2*n\n",
        "func_a = function(a)\n",
        "func_b = function(b)\n",
        "I = (b-a)*(func_a +2*(mid)+func_b)/a\n",
        "print(I)"
      ],
      "execution_count": 7,
      "outputs": [
        {
          "output_type": "stream",
          "text": [
            "0.2\n",
            "0.4\n",
            "0.6000000000000001\n",
            "2833516.5119999996\n"
          ],
          "name": "stdout"
        }
      ]
    }
  ]
}