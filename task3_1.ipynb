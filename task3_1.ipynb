{
  "nbformat": 4,
  "nbformat_minor": 0,
  "metadata": {
    "kernelspec": {
      "display_name": "Python 3",
      "language": "python",
      "name": "python3"
    },
    "language_info": {
      "codemirror_mode": {
        "name": "ipython",
        "version": 3
      },
      "file_extension": ".py",
      "mimetype": "text/x-python",
      "name": "python",
      "nbconvert_exporter": "python",
      "pygments_lexer": "ipython3",
      "version": "3.7.7"
    },
    "colab": {
      "name": "task3.1.ipynb",
      "provenance": []
    }
  },
  "cells": [
    {
      "cell_type": "code",
      "metadata": {
        "id": "SeREn0fqKJhj",
        "colab_type": "code",
        "colab": {}
      },
      "source": [
        "# Python Program for\n",
        "\n",
        "# Searching for a root \n",
        "\n",
        "# Method 2 (interval search - divide and conquer)"
      ],
      "execution_count": null,
      "outputs": []
    },
    {
      "cell_type": "code",
      "metadata": {
        "id": "9tT4cgPEKJhn",
        "colab_type": "code",
        "colab": {}
      },
      "source": [
        "# include libraries\n",
        "\n",
        "import numpy as np"
      ],
      "execution_count": null,
      "outputs": []
    },
    {
      "cell_type": "code",
      "metadata": {
        "id": "F3eaUyr3KJhr",
        "colab_type": "code",
        "colab": {}
      },
      "source": [
        "def g(x):\n",
        "    # return 5+3*x-5*x**2+x**3\n",
        "    return x - 1\n"
      ],
      "execution_count": null,
      "outputs": []
    },
    {
      "cell_type": "code",
      "metadata": {
        "id": "cuKoSRuRKJht",
        "colab_type": "code",
        "colab": {
          "base_uri": "https://localhost:8080/",
          "height": 34
        },
        "outputId": "15632b88-4956-4db6-aa11-8c1379eca249"
      },
      "source": [
        "xl = 4\n",
        "xu = 5\n",
        "\n",
        "x = np.linspace(xl,xu,11)\n",
        "print(x)"
      ],
      "execution_count": null,
      "outputs": [
        {
          "output_type": "stream",
          "text": [
            "[4.  4.1 4.2 4.3 4.4 4.5 4.6 4.7 4.8 4.9 5. ]\n"
          ],
          "name": "stdout"
        }
      ]
    },
    {
      "cell_type": "code",
      "metadata": {
        "id": "yMzwx23vKJhy",
        "colab_type": "code",
        "colab": {
          "base_uri": "https://localhost:8080/",
          "height": 204
        },
        "outputId": "f05e296e-e3e5-45bd-e87c-da4a5c02658a"
      },
      "source": [
        "for k in x:\n",
        "    print(k)\n",
        "# end for\n"
      ],
      "execution_count": null,
      "outputs": [
        {
          "output_type": "stream",
          "text": [
            "4.0\n",
            "4.1\n",
            "4.2\n",
            "4.3\n",
            "4.4\n",
            "4.5\n",
            "4.6\n",
            "4.7\n",
            "4.8\n",
            "4.9\n",
            "5.0\n"
          ],
          "name": "stdout"
        }
      ]
    },
    {
      "cell_type": "code",
      "metadata": {
        "id": "nCPfidTRKJh1",
        "colab_type": "code",
        "colab": {
          "base_uri": "https://localhost:8080/",
          "height": 187
        },
        "outputId": "640c9cae-16bc-4f8c-adb2-3da472d40aad"
      },
      "source": [
        "for i in range(len(x)-1):\n",
        "    print('x({}) = {}'.format(i,x[i]))\n",
        "# end for\n",
        "\n",
        "#     # test whether g(xl) and g(xu) have different signs\n",
        "#     if ((g(x[i])*g(x[i+1])) < 0):\n",
        "#         print('root is in there')\n",
        "#     # end if\n",
        "\n"
      ],
      "execution_count": null,
      "outputs": [
        {
          "output_type": "stream",
          "text": [
            "x(0) = 4.0\n",
            "x(1) = 4.1\n",
            "x(2) = 4.2\n",
            "x(3) = 4.3\n",
            "x(4) = 4.4\n",
            "x(5) = 4.5\n",
            "x(6) = 4.6\n",
            "x(7) = 4.7\n",
            "x(8) = 4.8\n",
            "x(9) = 4.9\n"
          ],
          "name": "stdout"
        }
      ]
    },
    {
      "cell_type": "code",
      "metadata": {
        "id": "oiET4rUzKJh3",
        "colab_type": "code",
        "colab": {
          "base_uri": "https://localhost:8080/",
          "height": 187
        },
        "outputId": "8a0e236c-1426-4d96-d0c7-ec168d66ae31"
      },
      "source": [
        "for i in range(len(x)-1):\n",
        "    print('testing interval: {}, g(x[{}]) = {}, g(x[{}]) = {}'.format(i, i,g(x[i]),i+1,g(x[i+1])))\n",
        "    if ((g(x[i])*g(x[i+1])) < 0):\n",
        "        print('root is in interval ({},{})'.format(x[i],x[i+1]))\n",
        "        xr = (x[i] + x[i+1]) * (1/2)\n",
        "        print('root xr is {}'.format(xr))\n",
        "    # end if\n",
        "# end for\n"
      ],
      "execution_count": null,
      "outputs": [
        {
          "output_type": "stream",
          "text": [
            "testing interval: 0, g(x[0]) = 3.0, g(x[1]) = 3.0999999999999996\n",
            "testing interval: 1, g(x[1]) = 3.0999999999999996, g(x[2]) = 3.2\n",
            "testing interval: 2, g(x[2]) = 3.2, g(x[3]) = 3.3\n",
            "testing interval: 3, g(x[3]) = 3.3, g(x[4]) = 3.4000000000000004\n",
            "testing interval: 4, g(x[4]) = 3.4000000000000004, g(x[5]) = 3.5\n",
            "testing interval: 5, g(x[5]) = 3.5, g(x[6]) = 3.5999999999999996\n",
            "testing interval: 6, g(x[6]) = 3.5999999999999996, g(x[7]) = 3.7\n",
            "testing interval: 7, g(x[7]) = 3.7, g(x[8]) = 3.8\n",
            "testing interval: 8, g(x[8]) = 3.8, g(x[9]) = 3.9000000000000004\n",
            "testing interval: 9, g(x[9]) = 3.9000000000000004, g(x[10]) = 4.0\n"
          ],
          "name": "stdout"
        }
      ]
    },
    {
      "cell_type": "code",
      "metadata": {
        "id": "GjyPuT21KJh7",
        "colab_type": "code",
        "colab": {}
      },
      "source": [
        "def interval_search(xl,xu,n,prev_xr,es):\n",
        "    x = np.linspace(xl,xu,n)\n",
        "    for i in range(len(x)-1):\n",
        "      print('testing interval: {}, g(x[{}]) = {}, g(x[{}]) = {}'.format(i, i,g(x[i]),i+1,g(x[i+1])))\n",
        "      if ((g(x[i])*g(x[i+1])) < 0):\n",
        "          print('root is in interval ({},{})'.format(x[i],x[i+1]))\n",
        "          xr = (x[i] + x[i+1]) * (1/2)\n",
        "          print('root xr is {}'.format(xr))\n",
        "          ea = abs(100 * (xr - prev_xr)/xr )\n",
        "          print('ea = ', ea)\n",
        "\n",
        "          if(ea <es):\n",
        "            return xr\n",
        "          else:\n",
        "            xr = interval_search(x[i],x[i+1],n,xr,es)\n",
        "          \n",
        "          #end if\n",
        "      # end if\n",
        "       \n",
        "    # end for\n",
        "    return xr \n",
        "   \n",
        "    \n",
        "#end function\n"
      ],
      "execution_count": 107,
      "outputs": []
    },
    {
      "cell_type": "code",
      "metadata": {
        "id": "BY_NiWolfUBr",
        "colab_type": "code",
        "colab": {
          "base_uri": "https://localhost:8080/",
          "height": 204
        },
        "outputId": "eb9ab38c-65dc-4302-a1c5-6b1ff20ea476"
      },
      "source": [
        "xl = 4\n",
        "xu = 5\n",
        "n = 11\n",
        "prev_xr = 0\n",
        "p = 4\n",
        "es = 0.5*10**(2-p)\n",
        "xr = interval_search(xl,xu,n,prev_xr,es)\n",
        "print(xr)"
      ],
      "execution_count": 105,
      "outputs": [
        {
          "output_type": "stream",
          "text": [
            "testing interval: 0, g(x[0]) = 3.0, g(x[1]) = 3.0999999999999996\n",
            "testing interval: 1, g(x[1]) = 3.0999999999999996, g(x[2]) = 3.2\n",
            "testing interval: 2, g(x[2]) = 3.2, g(x[3]) = 3.3\n",
            "testing interval: 3, g(x[3]) = 3.3, g(x[4]) = 3.4000000000000004\n",
            "testing interval: 4, g(x[4]) = 3.4000000000000004, g(x[5]) = 3.5\n",
            "testing interval: 5, g(x[5]) = 3.5, g(x[6]) = 3.5999999999999996\n",
            "testing interval: 6, g(x[6]) = 3.5999999999999996, g(x[7]) = 3.7\n",
            "testing interval: 7, g(x[7]) = 3.7, g(x[8]) = 3.8\n",
            "testing interval: 8, g(x[8]) = 3.8, g(x[9]) = 3.9000000000000004\n",
            "testing interval: 9, g(x[9]) = 3.9000000000000004, g(x[10]) = 4.0\n",
            "None\n"
          ],
          "name": "stdout"
        }
      ]
    }
  ]
}