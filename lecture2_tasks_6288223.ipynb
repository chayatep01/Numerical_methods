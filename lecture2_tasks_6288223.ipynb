{
  "nbformat": 4,
  "nbformat_minor": 0,
  "metadata": {
    "kernelspec": {
      "display_name": "Python 3",
      "language": "python",
      "name": "python3"
    },
    "language_info": {
      "codemirror_mode": {
        "name": "ipython",
        "version": 3
      },
      "file_extension": ".py",
      "mimetype": "text/x-python",
      "name": "python",
      "nbconvert_exporter": "python",
      "pygments_lexer": "ipython3",
      "version": "3.7.7"
    },
    "colab": {
      "name": "lecture2_tasks-6288223.ipynb",
      "provenance": [],
      "collapsed_sections": []
    }
  },
  "cells": [
    {
      "cell_type": "code",
      "metadata": {
        "id": "fV3QiSkC53-u",
        "colab_type": "code",
        "colab": {}
      },
      "source": [
        "# \n",
        "# 18 June 2020\n",
        "# \n",
        "# Plotting tutorial\n",
        "# Reference: https://matplotlib.org/tutorials/introductory/pyplot.html\n",
        "# https://matplotlib.org/3.1.0/api/_as_gen/matplotlib.pyplot.figure.html\n",
        "# https://www.tutorialspoint.com/matplotlib/index.htm\n",
        "#"
      ],
      "execution_count": null,
      "outputs": []
    },
    {
      "cell_type": "code",
      "metadata": {
        "id": "Wx1Nge7h53-0",
        "colab_type": "code",
        "colab": {}
      },
      "source": [
        "import numpy as np\n",
        "import matplotlib.pyplot as plt\n",
        "import scipy.linalg as la"
      ],
      "execution_count": 78,
      "outputs": []
    },
    {
      "cell_type": "code",
      "metadata": {
        "id": "7YZb4jm353_F",
        "colab_type": "code",
        "colab": {
          "base_uri": "https://localhost:8080/",
          "height": 395
        },
        "outputId": "16c4d2b2-7cad-419a-efa3-6e86ecb951bb"
      },
      "source": [
        "#TASK2.0\n",
        "\n",
        "\n",
        "fig = plt.figure(figsize = (10,6))\n",
        "x = np.linspace(-2,3,100)\n",
        "\n",
        "# Amplitude of the sine wave is sine of a variable like time\n",
        "\n",
        "y1 = x**2 - (2*x) - 3\n",
        "y2 = np.sin(10*x)+ np.cos(3*x)\n",
        "y3 =  np.sin(2*3.14*x) + np.exp(2*x) + (x-2.5)\n",
        "\n",
        "plt.plot(x, y1, c = 'r', label = 'f(x)1')\n",
        "plt.plot(x, y2, c = 'b', label = 'f(x)2')\n",
        "plt.plot(x, y3, c = 'g' , label = 'f(x)3' )\n",
        "\n",
        "plt.grid(True, which='both')\n",
        "\n",
        "plt.legend()\n",
        "plt.show()"
      ],
      "execution_count": 80,
      "outputs": [
        {
          "output_type": "error",
          "ename": "TypeError",
          "evalue": "ignored",
          "traceback": [
            "\u001b[0;31m---------------------------------------------------------------------------\u001b[0m",
            "\u001b[0;31mTypeError\u001b[0m                                 Traceback (most recent call last)",
            "\u001b[0;32m<ipython-input-80-7848888bc44d>\u001b[0m in \u001b[0;36m<module>\u001b[0;34m()\u001b[0m\n\u001b[1;32m      2\u001b[0m \u001b[0;34m\u001b[0m\u001b[0m\n\u001b[1;32m      3\u001b[0m \u001b[0;34m\u001b[0m\u001b[0m\n\u001b[0;32m----> 4\u001b[0;31m \u001b[0mfig\u001b[0m \u001b[0;34m=\u001b[0m \u001b[0mplt\u001b[0m\u001b[0;34m.\u001b[0m\u001b[0mfigure\u001b[0m\u001b[0;34m(\u001b[0m\u001b[0mfigsize\u001b[0m \u001b[0;34m=\u001b[0m \u001b[0;34m(\u001b[0m\u001b[0;36m10\u001b[0m\u001b[0;34m,\u001b[0m\u001b[0;36m6\u001b[0m\u001b[0;34m)\u001b[0m\u001b[0;34m)\u001b[0m\u001b[0;34m\u001b[0m\u001b[0;34m\u001b[0m\u001b[0m\n\u001b[0m\u001b[1;32m      5\u001b[0m \u001b[0mx\u001b[0m \u001b[0;34m=\u001b[0m \u001b[0mnp\u001b[0m\u001b[0;34m.\u001b[0m\u001b[0mlinspace\u001b[0m\u001b[0;34m(\u001b[0m\u001b[0;34m-\u001b[0m\u001b[0;36m2\u001b[0m\u001b[0;34m,\u001b[0m\u001b[0;36m3\u001b[0m\u001b[0;34m,\u001b[0m\u001b[0;36m100\u001b[0m\u001b[0;34m)\u001b[0m\u001b[0;34m\u001b[0m\u001b[0;34m\u001b[0m\u001b[0m\n\u001b[1;32m      6\u001b[0m \u001b[0;34m\u001b[0m\u001b[0m\n",
            "\u001b[0;32m/usr/local/lib/python3.6/dist-packages/matplotlib/pyplot.py\u001b[0m in \u001b[0;36mfigure\u001b[0;34m(num, figsize, dpi, facecolor, edgecolor, frameon, FigureClass, clear, **kwargs)\u001b[0m\n\u001b[1;32m    544\u001b[0m                                         \u001b[0mframeon\u001b[0m\u001b[0;34m=\u001b[0m\u001b[0mframeon\u001b[0m\u001b[0;34m,\u001b[0m\u001b[0;34m\u001b[0m\u001b[0;34m\u001b[0m\u001b[0m\n\u001b[1;32m    545\u001b[0m                                         \u001b[0mFigureClass\u001b[0m\u001b[0;34m=\u001b[0m\u001b[0mFigureClass\u001b[0m\u001b[0;34m,\u001b[0m\u001b[0;34m\u001b[0m\u001b[0;34m\u001b[0m\u001b[0m\n\u001b[0;32m--> 546\u001b[0;31m                                         **kwargs)\n\u001b[0m\u001b[1;32m    547\u001b[0m \u001b[0;34m\u001b[0m\u001b[0m\n\u001b[1;32m    548\u001b[0m         \u001b[0;32mif\u001b[0m \u001b[0mfigLabel\u001b[0m\u001b[0;34m:\u001b[0m\u001b[0;34m\u001b[0m\u001b[0;34m\u001b[0m\u001b[0m\n",
            "\u001b[0;32m/usr/local/lib/python3.6/dist-packages/matplotlib/backend_bases.py\u001b[0m in \u001b[0;36mnew_figure_manager\u001b[0;34m(cls, num, *args, **kwargs)\u001b[0m\n\u001b[1;32m   3355\u001b[0m         \u001b[0;32mfrom\u001b[0m \u001b[0mmatplotlib\u001b[0m\u001b[0;34m.\u001b[0m\u001b[0mfigure\u001b[0m \u001b[0;32mimport\u001b[0m \u001b[0mFigure\u001b[0m\u001b[0;34m\u001b[0m\u001b[0;34m\u001b[0m\u001b[0m\n\u001b[1;32m   3356\u001b[0m         \u001b[0mfig_cls\u001b[0m \u001b[0;34m=\u001b[0m \u001b[0mkwargs\u001b[0m\u001b[0;34m.\u001b[0m\u001b[0mpop\u001b[0m\u001b[0;34m(\u001b[0m\u001b[0;34m'FigureClass'\u001b[0m\u001b[0;34m,\u001b[0m \u001b[0mFigure\u001b[0m\u001b[0;34m)\u001b[0m\u001b[0;34m\u001b[0m\u001b[0;34m\u001b[0m\u001b[0m\n\u001b[0;32m-> 3357\u001b[0;31m         \u001b[0mfig\u001b[0m \u001b[0;34m=\u001b[0m \u001b[0mfig_cls\u001b[0m\u001b[0;34m(\u001b[0m\u001b[0;34m*\u001b[0m\u001b[0margs\u001b[0m\u001b[0;34m,\u001b[0m \u001b[0;34m**\u001b[0m\u001b[0mkwargs\u001b[0m\u001b[0;34m)\u001b[0m\u001b[0;34m\u001b[0m\u001b[0;34m\u001b[0m\u001b[0m\n\u001b[0m\u001b[1;32m   3358\u001b[0m         \u001b[0;32mreturn\u001b[0m \u001b[0mcls\u001b[0m\u001b[0;34m.\u001b[0m\u001b[0mnew_figure_manager_given_figure\u001b[0m\u001b[0;34m(\u001b[0m\u001b[0mnum\u001b[0m\u001b[0;34m,\u001b[0m \u001b[0mfig\u001b[0m\u001b[0;34m)\u001b[0m\u001b[0;34m\u001b[0m\u001b[0;34m\u001b[0m\u001b[0m\n\u001b[1;32m   3359\u001b[0m \u001b[0;34m\u001b[0m\u001b[0m\n",
            "\u001b[0;32m/usr/local/lib/python3.6/dist-packages/matplotlib/figure.py\u001b[0m in \u001b[0;36m__init__\u001b[0;34m(self, figsize, dpi, facecolor, edgecolor, linewidth, frameon, subplotpars, tight_layout, constrained_layout)\u001b[0m\n\u001b[1;32m    346\u001b[0m             \u001b[0mframeon\u001b[0m \u001b[0;34m=\u001b[0m \u001b[0mrcParams\u001b[0m\u001b[0;34m[\u001b[0m\u001b[0;34m'figure.frameon'\u001b[0m\u001b[0;34m]\u001b[0m\u001b[0;34m\u001b[0m\u001b[0;34m\u001b[0m\u001b[0m\n\u001b[1;32m    347\u001b[0m \u001b[0;34m\u001b[0m\u001b[0m\n\u001b[0;32m--> 348\u001b[0;31m         \u001b[0;32mif\u001b[0m \u001b[0;32mnot\u001b[0m \u001b[0mnp\u001b[0m\u001b[0;34m.\u001b[0m\u001b[0misfinite\u001b[0m\u001b[0;34m(\u001b[0m\u001b[0mfigsize\u001b[0m\u001b[0;34m)\u001b[0m\u001b[0;34m.\u001b[0m\u001b[0mall\u001b[0m\u001b[0;34m(\u001b[0m\u001b[0;34m)\u001b[0m \u001b[0;32mor\u001b[0m \u001b[0;34m(\u001b[0m\u001b[0mnp\u001b[0m\u001b[0;34m.\u001b[0m\u001b[0marray\u001b[0m\u001b[0;34m(\u001b[0m\u001b[0mfigsize\u001b[0m\u001b[0;34m)\u001b[0m \u001b[0;34m<=\u001b[0m \u001b[0;36m0\u001b[0m\u001b[0;34m)\u001b[0m\u001b[0;34m.\u001b[0m\u001b[0many\u001b[0m\u001b[0;34m(\u001b[0m\u001b[0;34m)\u001b[0m\u001b[0;34m:\u001b[0m\u001b[0;34m\u001b[0m\u001b[0;34m\u001b[0m\u001b[0m\n\u001b[0m\u001b[1;32m    349\u001b[0m             raise ValueError('figure size must be positive finite not '\n\u001b[1;32m    350\u001b[0m                              f'{figsize}')\n",
            "\u001b[0;31mTypeError\u001b[0m: 'tuple' object is not callable"
          ]
        }
      ]
    },
    {
      "cell_type": "code",
      "metadata": {
        "id": "stVVmsK8CCbP",
        "colab_type": "code",
        "colab": {
          "base_uri": "https://localhost:8080/",
          "height": 232
        },
        "outputId": "127a40b3-f3f5-41a6-a4c9-5685a0ccbada"
      },
      "source": [
        "\n",
        "\n",
        "\n",
        "\n",
        "#TASK2.1\n",
        "M = np.array([[0, 0, 0], [0, 0, 0], [0, 0, 0]])\n",
        "N = np.array([[0, 0, 0], [0, 0, 0], [0, 0, 0]])\n",
        "\n",
        "m = 0 \n",
        "n = 0 \n",
        "\n",
        "def is_square(M) :\n",
        " \n",
        "  for m in range(len(M)):\n",
        "    m+=1\n",
        "    for n in range(len(M[0])):\n",
        "      n = n+1\n",
        "    \n",
        "  if(m==n):\n",
        "    print('square',m,n)\n",
        "    return m,n\n",
        "\n",
        "\n",
        "def is_symmetrical(M,N) :\n",
        "  if len(M)==len(N[0]) and len(N)==len(M[0]):\n",
        "    print(M,'and',N,'are symmetic')\n",
        "\n",
        "\n",
        "\n",
        "def is_diagonal(M):\n",
        "  zero_metrix = 0\n",
        "  for i in range(len(M)):\n",
        "     for j in  range(len(M)):\n",
        "          if((i != j ) and (M[i][j]!=0)):\n",
        "            print('This metrix is not diagnal')\n",
        "            return False\n",
        "          if((M[i][j]==0)):\n",
        "            zero_metrix += 1\n",
        "            if zero_metrix == len(M):\n",
        "                  print(zero_metrix)\n",
        "                  print('This metrix also be zero metrix')\n",
        "  return True\n",
        "\n",
        "    \n",
        "  \n",
        "\n",
        "is_square(M)\n",
        "is_symmetrical(M,N)\n",
        "#is_zerometrix include in is diagonal function\n",
        "is_diagonal(M)\n",
        "#transpose metrix\n",
        "TN = np.array([[1, 2, 3], [4, 5, 6], [7, 8, 9]])\n",
        "print(list(map(list, zip(*TN))))\n",
        "\n",
        "\n",
        "\n",
        "\n",
        "\n",
        "\n"
      ],
      "execution_count": 81,
      "outputs": [
        {
          "output_type": "error",
          "ename": "TypeError",
          "evalue": "ignored",
          "traceback": [
            "\u001b[0;31m---------------------------------------------------------------------------\u001b[0m",
            "\u001b[0;31mTypeError\u001b[0m                                 Traceback (most recent call last)",
            "\u001b[0;32m<ipython-input-81-8300c8bab64a>\u001b[0m in \u001b[0;36m<module>\u001b[0;34m()\u001b[0m\n\u001b[1;32m      4\u001b[0m \u001b[0;34m\u001b[0m\u001b[0m\n\u001b[1;32m      5\u001b[0m \u001b[0;31m#TASK2.1\u001b[0m\u001b[0;34m\u001b[0m\u001b[0;34m\u001b[0m\u001b[0;34m\u001b[0m\u001b[0m\n\u001b[0;32m----> 6\u001b[0;31m \u001b[0mM\u001b[0m \u001b[0;34m=\u001b[0m \u001b[0mnp\u001b[0m\u001b[0;34m.\u001b[0m\u001b[0marray\u001b[0m\u001b[0;34m(\u001b[0m\u001b[0;34m[\u001b[0m\u001b[0;34m[\u001b[0m\u001b[0;36m0\u001b[0m\u001b[0;34m,\u001b[0m \u001b[0;36m0\u001b[0m\u001b[0;34m,\u001b[0m \u001b[0;36m0\u001b[0m\u001b[0;34m]\u001b[0m\u001b[0;34m,\u001b[0m \u001b[0;34m[\u001b[0m\u001b[0;36m0\u001b[0m\u001b[0;34m,\u001b[0m \u001b[0;36m0\u001b[0m\u001b[0;34m,\u001b[0m \u001b[0;36m0\u001b[0m\u001b[0;34m]\u001b[0m\u001b[0;34m,\u001b[0m \u001b[0;34m[\u001b[0m\u001b[0;36m0\u001b[0m\u001b[0;34m,\u001b[0m \u001b[0;36m0\u001b[0m\u001b[0;34m,\u001b[0m \u001b[0;36m0\u001b[0m\u001b[0;34m]\u001b[0m\u001b[0;34m]\u001b[0m\u001b[0;34m)\u001b[0m\u001b[0;34m\u001b[0m\u001b[0;34m\u001b[0m\u001b[0m\n\u001b[0m\u001b[1;32m      7\u001b[0m \u001b[0mN\u001b[0m \u001b[0;34m=\u001b[0m \u001b[0mnp\u001b[0m\u001b[0;34m.\u001b[0m\u001b[0marray\u001b[0m\u001b[0;34m(\u001b[0m\u001b[0;34m[\u001b[0m\u001b[0;34m[\u001b[0m\u001b[0;36m0\u001b[0m\u001b[0;34m,\u001b[0m \u001b[0;36m0\u001b[0m\u001b[0;34m,\u001b[0m \u001b[0;36m0\u001b[0m\u001b[0;34m]\u001b[0m\u001b[0;34m,\u001b[0m \u001b[0;34m[\u001b[0m\u001b[0;36m0\u001b[0m\u001b[0;34m,\u001b[0m \u001b[0;36m0\u001b[0m\u001b[0;34m,\u001b[0m \u001b[0;36m0\u001b[0m\u001b[0;34m]\u001b[0m\u001b[0;34m,\u001b[0m \u001b[0;34m[\u001b[0m\u001b[0;36m0\u001b[0m\u001b[0;34m,\u001b[0m \u001b[0;36m0\u001b[0m\u001b[0;34m,\u001b[0m \u001b[0;36m0\u001b[0m\u001b[0;34m]\u001b[0m\u001b[0;34m]\u001b[0m\u001b[0;34m)\u001b[0m\u001b[0;34m\u001b[0m\u001b[0;34m\u001b[0m\u001b[0m\n\u001b[1;32m      8\u001b[0m \u001b[0;34m\u001b[0m\u001b[0m\n",
            "\u001b[0;31mTypeError\u001b[0m: 'tuple' object is not callable"
          ]
        }
      ]
    },
    {
      "cell_type": "code",
      "metadata": {
        "id": "A0wOJ3wyH_dz",
        "colab_type": "code",
        "colab": {
          "base_uri": "https://localhost:8080/",
          "height": 34
        },
        "outputId": "72fdc9c1-16fd-4bd3-ba9b-e70a558c7bdd"
      },
      "source": [
        "#TASK2.2\n",
        "\n",
        "a = np.array([[ 5, 1 ,3], \n",
        "                  [ 1, 1 ,1], \n",
        "                  [ 1, 2 ,1]])\n",
        "b = np.array([1, 2, 3])\n",
        "print(a.dot(b))"
      ],
      "execution_count": 61,
      "outputs": [
        {
          "output_type": "stream",
          "text": [
            "[16  6  8]\n"
          ],
          "name": "stdout"
        }
      ]
    },
    {
      "cell_type": "code",
      "metadata": {
        "id": "9NewN-TQgOmo",
        "colab_type": "code",
        "colab": {
          "base_uri": "https://localhost:8080/",
          "height": 34
        },
        "outputId": "b601a001-ecf9-4c37-f3d2-fb4ab7eaed3b"
      },
      "source": [
        "#TASK2.3\n",
        "def determinantOfMatrix(mat,n): \n",
        "  \n",
        "    temp = [0]*n # temporary array for storing row   \n",
        "    total=1 \n",
        "    det=1  # initialize result \n",
        "  \n",
        "    # loop for traversing the diagonal elements  \n",
        "    for i in range(0,n): \n",
        "        index=i  # initialize the index \n",
        "  \n",
        "        # finding the index which has non zero value   \n",
        "        while(mat[index][i] == 0 and index < n): \n",
        "            index+=1\n",
        "     \n",
        "        if(index == n): # if there is non zero element \n",
        "            # the determinat of matrix as zero \n",
        "            continue\n",
        "  \n",
        "        if(index != i): \n",
        "            # loop for swaping the diagonal element row and index row \n",
        "            for j in range(0,n): \n",
        "                mat[index][j],mat[i][j] = mat[i][j],mat[index][j] \n",
        "                  \n",
        "            # determinant sign changes when we shift rows   \n",
        "            # go through determinant properties   \n",
        "            det = det*int(pow(-1,index-i)) \n",
        "    \n",
        "        # storing the values of diagonal row elements  \n",
        "        for j in range(0,n): \n",
        "            temp[j] = mat[i][j] \n",
        "           \n",
        "        #traversing every row below the diagonal element \n",
        "        for j in range(i+1,n): \n",
        "            num1 = temp[i]     # value of diagonal element \n",
        "            num2 = mat[j][i]   # value of next row element \n",
        "  \n",
        "            # traversing every column of row   \n",
        "            # and multiplying to every row   \n",
        "            for k in range(0,n): \n",
        "                # multiplying to make the diagonal   \n",
        "                # element and next row element equal \n",
        "  \n",
        "                mat[j][k] = (num1*mat[j][k]) - (num2*temp[k]) \n",
        "  \n",
        "            total = total * num1 # Det(kA)=kDet(A); \n",
        "  \n",
        "    #mulitplying the diagonal elements to get determinant \n",
        "    for i in range(0,n): \n",
        "         det = det*mat[i][i] \n",
        "  \n",
        "  \n",
        "    return int(det/total) #Det(kA)/k=Det(A);   \n",
        "  \n",
        "#Drivers code \n",
        "if __name__ == \"__main__\": \n",
        "   \n",
        "    mat=[[4, 5, 2, -1],[3, 6, 7, 3],[-2, 1, 4, -3],[1, 5, 5, 7]] \n",
        "    N=len(mat) \n",
        "    print(\"Determinant of the matrix is : \",determinantOfMatrix(mat,N)) \n",
        "\n",
        "\n",
        "\n"
      ],
      "execution_count": 65,
      "outputs": [
        {
          "output_type": "stream",
          "text": [
            "Determinant of the matrix is :  -424\n"
          ],
          "name": "stdout"
        }
      ]
    },
    {
      "cell_type": "code",
      "metadata": {
        "id": "95vAnI99gidm",
        "colab_type": "code",
        "colab": {}
      },
      "source": [
        ""
      ],
      "execution_count": null,
      "outputs": []
    },
    {
      "cell_type": "code",
      "metadata": {
        "id": "C2hHYwJogzal",
        "colab_type": "code",
        "colab": {
          "base_uri": "https://localhost:8080/",
          "height": 323
        },
        "outputId": "d820cc3c-b933-4887-de63-1f3cd9c1e509"
      },
      "source": [
        "#TASK2.4\n",
        "\n",
        "np.array=([1, 1, -1, -2],[0, 2, 1, 3],[0, 1, 1, 3],[0, 2, 1, 4]) \n",
        "print (np.array)\n",
        "\n",
        "#minor\n",
        "def __init__(self, *rows):\n",
        "        \"\"\"\n",
        "        Accepts either a matrix, a 2-dimensional list of numbers,\n",
        "        a list with a matrix width ( int ), or a series of one-dimensional lists of numbers.\n",
        "        :Parameters:\n",
        "            rows : list\n",
        "                Arguments for creating a matrix.\n",
        "        \"\"\"\n",
        "        self._width = 0\n",
        "        self._height = 0\n",
        "        self._value = list()\n",
        "\n",
        "        if rows:\n",
        "            # if the value passed into the constructor is a matrix\n",
        "            if len(rows) == 1 and type(rows[0]) == type(self):\n",
        "                for row in rows[0].value:\n",
        "                    newRow = list()\n",
        "                    for item in row:  # this should make a deep copy.\n",
        "                        newRow.append(item)\n",
        "                    self.addRow(*newRow)\n",
        "            # if the value passed into the constructor is a two-dimensional list\n",
        "            elif len(rows) == 1 and type(rows[0]) in MATRIX_VALID_COLLECTIONS and                       type(rows[0][0]) in MATRIX_VALID_COLLECTIONS:\n",
        "                for row in rows[0]:\n",
        "                    newRow = list()\n",
        "                    for item in row:  # this should make a deep copy.\n",
        "                        newRow.append(item)\n",
        "                    self.addRow(*newRow)\n",
        "            # if the value passed into the constructor is a list followed by a matrix width\n",
        "            elif ((len(rows) == 2) and (type(rows[0]) in MATRIX_VALID_COLLECTIONS) and (\n",
        "                type(rows[1]) in MATRIX_VALID_INTS)):\n",
        "                if (len(rows[0]) % rows[1]):\n",
        "                    raise ValueError(\n",
        "                        'Invalid list length for matrix construction, must be a multiple of width argument')\n",
        "                newRow = list()\n",
        "                for i in range(len(rows[0])):\n",
        "                    if (i and (not i % rows[1])):  # i > 0 and a multiple of the given width.\n",
        "                        self.addRow(*newRow)\n",
        "                        newRow = list()\n",
        "                    newRow.append(rows[0][i])\n",
        "                # when we get here, there should still be one row left in the \"buffer\", so\n",
        "                self.addRow(*newRow)\n",
        "            # if the value passed into the constructor is several lists\n",
        "            else:\n",
        "                for row in rows:\n",
        "                    if not (type(row) in MATRIX_VALID_COLLECTIONS):\n",
        "                        raise TypeError(\"Constructor arguments must be of type 'list' or 'tuple'\")  # fix this!\n",
        "                    self.addRow(*row)\n",
        "\n",
        "def minor(self, i, j):\n",
        "        \"\"\"\n",
        "        The Minor of a matrix\n",
        "        :rtype: number\n",
        "        :returns: The minor of the item at column i, row j\n",
        "        \"\"\"\n",
        "        if not self.isSquare():\n",
        "            raise ValueError(\"Minor is not defined for non-square matrix\")\n",
        "        if (self._height == 1 and self._width == 1):\n",
        "            raise ValueError(\"Minor is not defined for 1x1 matrix\")\n",
        "        m = Matrix(self)\n",
        "        m.deleteRow(i)\n",
        "        m.deleteColumn(j)\n",
        "        return m.determinant()\n",
        "\n",
        "\n",
        "print(\"Minor of the matrix:\")\n",
        "print(m)\n",
        "\n",
        "#cofactor\n",
        "co = np.linalg.inv(np.array).T * np.linalg.det(np.array)\n",
        "print(\"Cofactor of the matrix:\")\n",
        "print(co)\n",
        "\n",
        "#adjoint\n",
        "adj = np.linalg.det(np.array) *  np.linalg.inv(np.array)\n",
        "print(\"Adjoint of the matrix:\")\n",
        "print(adj)\n",
        "\n",
        "#inverse\n",
        "inv =  np.linalg.inv(np.array)\n",
        "print(\"Inverse of the matrix:\")\n",
        "print(inv)"
      ],
      "execution_count": 66,
      "outputs": [
        {
          "output_type": "stream",
          "text": [
            "([1, 1, -1, -2], [0, 2, 1, 3], [0, 1, 1, 3], [0, 2, 1, 4])\n",
            "Minor of the matrix:\n",
            "0\n",
            "Cofactor of the matrix:\n",
            "[[ 1.  0.  0.  0.]\n",
            " [-1.  1.  2. -1.]\n",
            " [ 3. -1.  2.  0.]\n",
            " [-1.  0. -3.  1.]]\n",
            "Adjoint of the matrix:\n",
            "[[ 1. -1.  3. -1.]\n",
            " [ 0.  1. -1.  0.]\n",
            " [ 0.  2.  2. -3.]\n",
            " [ 0. -1.  0.  1.]]\n",
            "Inverse of the matrix:\n",
            "[[ 1. -1.  3. -1.]\n",
            " [ 0.  1. -1.  0.]\n",
            " [ 0.  2.  2. -3.]\n",
            " [ 0. -1.  0.  1.]]\n"
          ],
          "name": "stdout"
        }
      ]
    },
    {
      "cell_type": "code",
      "metadata": {
        "id": "nsejGYXOg5Jf",
        "colab_type": "code",
        "colab": {
          "base_uri": "https://localhost:8080/",
          "height": 232
        },
        "outputId": "99115c22-b49f-4f48-adca-ee56b32a02c8"
      },
      "source": [
        "#TASK2.5\n",
        "A = np.array([[1,0],[0,-2]]) \n",
        "w, v = np.linalg.eig(A)\n",
        "\n",
        "print('eigenvalues')\n",
        "print(w)\n",
        "print('eigenvector')\n",
        "print(v)\n",
        "\n",
        "lam = w[1]\n",
        "print('find lamda')\n",
        "print(lam)\n",
        "\n",
        "print('if lamda = 7')\n",
        "x = w[1]/7\n",
        "print(x)\n",
        "\n"
      ],
      "execution_count": 77,
      "outputs": [
        {
          "output_type": "error",
          "ename": "TypeError",
          "evalue": "ignored",
          "traceback": [
            "\u001b[0;31m---------------------------------------------------------------------------\u001b[0m",
            "\u001b[0;31mTypeError\u001b[0m                                 Traceback (most recent call last)",
            "\u001b[0;32m<ipython-input-77-022306d3275c>\u001b[0m in \u001b[0;36m<module>\u001b[0;34m()\u001b[0m\n\u001b[1;32m      1\u001b[0m \u001b[0;31m#TASK2.5\u001b[0m\u001b[0;34m\u001b[0m\u001b[0;34m\u001b[0m\u001b[0;34m\u001b[0m\u001b[0m\n\u001b[0;32m----> 2\u001b[0;31m \u001b[0mA\u001b[0m \u001b[0;34m=\u001b[0m \u001b[0mnp\u001b[0m\u001b[0;34m.\u001b[0m\u001b[0marray\u001b[0m\u001b[0;34m(\u001b[0m\u001b[0;34m[\u001b[0m\u001b[0;34m[\u001b[0m\u001b[0;36m1\u001b[0m\u001b[0;34m,\u001b[0m\u001b[0;36m0\u001b[0m\u001b[0;34m]\u001b[0m\u001b[0;34m,\u001b[0m\u001b[0;34m[\u001b[0m\u001b[0;36m0\u001b[0m\u001b[0;34m,\u001b[0m\u001b[0;34m-\u001b[0m\u001b[0;36m2\u001b[0m\u001b[0;34m]\u001b[0m\u001b[0;34m]\u001b[0m\u001b[0;34m)\u001b[0m\u001b[0;34m\u001b[0m\u001b[0;34m\u001b[0m\u001b[0m\n\u001b[0m\u001b[1;32m      3\u001b[0m \u001b[0mw\u001b[0m\u001b[0;34m,\u001b[0m \u001b[0mv\u001b[0m \u001b[0;34m=\u001b[0m \u001b[0mnp\u001b[0m\u001b[0;34m.\u001b[0m\u001b[0mlinalg\u001b[0m\u001b[0;34m.\u001b[0m\u001b[0meig\u001b[0m\u001b[0;34m(\u001b[0m\u001b[0mA\u001b[0m\u001b[0;34m)\u001b[0m\u001b[0;34m\u001b[0m\u001b[0;34m\u001b[0m\u001b[0m\n\u001b[1;32m      4\u001b[0m \u001b[0;34m\u001b[0m\u001b[0m\n\u001b[1;32m      5\u001b[0m \u001b[0mprint\u001b[0m\u001b[0;34m(\u001b[0m\u001b[0;34m'eigenvalues'\u001b[0m\u001b[0;34m)\u001b[0m\u001b[0;34m\u001b[0m\u001b[0;34m\u001b[0m\u001b[0m\n",
            "\u001b[0;31mTypeError\u001b[0m: 'tuple' object is not callable"
          ]
        }
      ]
    }
  ]
}